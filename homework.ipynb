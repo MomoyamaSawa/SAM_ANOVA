{
 "cells": [
  {
   "cell_type": "markdown",
   "metadata": {},
   "source": [
    "### 0. 查看数据"
   ]
  },
  {
   "cell_type": "code",
   "execution_count": 1,
   "metadata": {
    "vscode": {
     "languageId": "r"
    }
   },
   "outputs": [
    {
     "name": "stdout",
     "output_type": "stream",
     "text": [
      "     ID       condition productivity\n",
      "1     1        no_music     187.6473\n",
      "2     2        no_music     196.4893\n",
      "3     3        no_music     194.3215\n",
      "4     4        no_music     190.1110\n",
      "5     5        no_music     156.7473\n",
      "6     6        no_music     145.1821\n",
      "7     7        no_music     186.4197\n",
      "8     8        no_music     113.8088\n",
      "9     9        no_music     213.9845\n",
      "10   10        no_music     175.9192\n",
      "11   11        no_music     239.3506\n",
      "12   12        no_music     129.5284\n",
      "13   13        no_music     255.5445\n",
      "14   14        no_music     235.9668\n",
      "15   15        no_music     161.0509\n",
      "16   16        no_music     184.0774\n",
      "17   17        no_music     117.7657\n",
      "18   18        no_music     128.6113\n",
      "19   19        no_music     130.6829\n",
      "20   20        no_music     179.0910\n",
      "21   21        no_music     113.8830\n",
      "22   22        no_music     153.4929\n",
      "23   23        no_music     141.5767\n",
      "24   24        no_music     210.9246\n",
      "25   25        no_music     222.2598\n",
      "26   26        no_music     203.6263\n",
      "27   27        no_music     142.0261\n",
      "28   28        no_music     166.6462\n",
      "29   29        no_music     167.7698\n",
      "30   30        no_music     144.6443\n",
      "31   31        no_music     252.7737\n",
      "32   32        no_music     205.2522\n",
      "33   33        no_music     170.0653\n",
      "34   34        no_music     196.7702\n",
      "35   35        no_music     159.4114\n",
      "36   36        no_music     199.2303\n",
      "37   37        no_music     130.2536\n",
      "38   38        no_music     142.6391\n",
      "39   39        no_music     276.6144\n",
      "40   40        no_music     172.9557\n",
      "41   41        no_music     115.7441\n",
      "42   42        no_music     191.8464\n",
      "43   43        no_music     222.5450\n",
      "44   44        no_music     129.5561\n",
      "45   45        no_music     110.7401\n",
      "46   46        no_music     168.6774\n",
      "47   47        no_music     182.7768\n",
      "48   48        no_music     164.5591\n",
      "49   49        no_music     172.3131\n",
      "50   50        no_music     171.0434\n",
      "51   51 music_no_choice     212.6361\n",
      "52   52 music_no_choice     138.5174\n",
      "53   53 music_no_choice     168.6875\n",
      "54   54 music_no_choice     156.9954\n",
      "55   55 music_no_choice     188.6528\n",
      "56   56 music_no_choice     205.4543\n",
      "57   57 music_no_choice     150.0563\n",
      "58   58 music_no_choice     183.2479\n",
      "59   59 music_no_choice     150.8186\n",
      "60   60 music_no_choice     148.6986\n",
      "61   61 music_no_choice     119.2453\n",
      "62   62 music_no_choice     220.4629\n",
      "63   63 music_no_choice     158.0327\n",
      "64   64 music_no_choice     210.7650\n",
      "65   65 music_no_choice     199.3401\n",
      "66   66 music_no_choice     201.5226\n",
      "67   67 music_no_choice     203.9683\n",
      "68   68 music_no_choice     179.5342\n",
      "69   69 music_no_choice     170.7354\n",
      "70   70 music_no_choice     166.8881\n",
      "71   71 music_no_choice     147.8676\n",
      "72   72 music_no_choice     177.6048\n",
      "73   73 music_no_choice     217.7876\n",
      "74   74 music_no_choice     169.4487\n",
      "75   75 music_no_choice     212.0877\n",
      "76   76 music_no_choice     196.0541\n",
      "77   77 music_no_choice     145.8399\n",
      "78   78 music_no_choice     219.6984\n",
      "79   79 music_no_choice     141.0327\n",
      "80   80 music_no_choice     178.4273\n",
      "81   81 music_no_choice     213.1240\n",
      "82   82 music_no_choice     112.1022\n",
      "83   83 music_no_choice     188.0300\n",
      "84   84 music_no_choice     130.0144\n",
      "85   85 music_no_choice     185.6471\n",
      "86   86 music_no_choice     161.0049\n",
      "87   87 music_no_choice     218.0407\n",
      "88   88 music_no_choice     190.9543\n",
      "89   89 music_no_choice     138.7914\n",
      "90   90 music_no_choice     121.0886\n",
      "91   91 music_no_choice     194.0250\n",
      "92   92 music_no_choice     172.1314\n",
      "93   93 music_no_choice     192.2200\n",
      "94   94 music_no_choice     224.4914\n",
      "95   95 music_no_choice     172.3021\n",
      "96   96 music_no_choice     104.6698\n",
      "97   97 music_no_choice     196.9878\n",
      "98   98 music_no_choice     183.2380\n",
      "99   99 music_no_choice     252.8472\n",
      "100 100 music_no_choice     165.3892\n",
      "101 101    music_choice     185.6668\n",
      "102 102    music_choice     179.2610\n",
      "103 103    music_choice     234.0858\n",
      "104 104    music_choice     179.7325\n",
      "105 105    music_choice     195.3656\n",
      "106 106    music_choice     175.9947\n",
      "107 107    music_choice     219.9202\n",
      "108 108    music_choice     137.6656\n",
      "109 109    music_choice     220.9773\n",
      "110 110    music_choice     201.1717\n",
      "111 111    music_choice     130.9050\n",
      "112 112    music_choice     190.1866\n",
      "113 113    music_choice     247.9838\n",
      "114 114    music_choice     197.9378\n",
      "115 115    music_choice     167.8754\n",
      "116 116    music_choice     202.4036\n",
      "117 117    music_choice     259.4466\n",
      "118 118    music_choice     196.8635\n",
      "119 119    music_choice     259.6056\n",
      "120 120    music_choice     277.6918\n",
      "121 121    music_choice     193.1472\n",
      "122 122    music_choice     184.4277\n",
      "123 123    music_choice     160.9541\n",
      "124 124    music_choice     191.3452\n",
      "125 125    music_choice     164.8158\n",
      "126 126    music_choice     200.1318\n",
      "127 127    music_choice     189.9879\n",
      "128 128    music_choice     167.6562\n",
      "129 129    music_choice     147.9222\n",
      "130 130    music_choice     252.6719\n",
      "131 131    music_choice     147.4554\n",
      "132 132    music_choice     194.6201\n",
      "133 133    music_choice     182.6908\n",
      "134 134    music_choice     255.8401\n",
      "135 135    music_choice     177.3216\n",
      "136 136    music_choice     263.8457\n",
      "137 137    music_choice     229.7661\n",
      "138 138    music_choice     193.1360\n",
      "139 139    music_choice     201.6454\n",
      "140 140    music_choice     185.8003\n",
      "141 141    music_choice     167.4030\n",
      "142 142    music_choice     251.5374\n",
      "143 143    music_choice     204.3099\n",
      "144 144    music_choice     182.2873\n",
      "145 145    music_choice     232.3901\n",
      "146 146    music_choice     285.3483\n",
      "147 147    music_choice     189.1607\n",
      "148 148    music_choice     235.2179\n",
      "149 149    music_choice     223.4825\n",
      "150 150    music_choice     231.1774\n"
     ]
    }
   ],
   "source": [
    "# 读取CSV文件\n",
    "data <- read.csv(\"2 ANOVA_data_music.csv\")\n",
    "# 显示数据\n",
    "print(data)"
   ]
  },
  {
   "cell_type": "markdown",
   "metadata": {},
   "source": [
    "### 1. 单因素方差分析"
   ]
  },
  {
   "cell_type": "code",
   "execution_count": 2,
   "metadata": {
    "vscode": {
     "languageId": "r"
    }
   },
   "outputs": [
    {
     "data": {
      "text/plain": [
       "             Df Sum Sq Mean Sq F value   Pr(>F)    \n",
       "condition     2  24734   12367   9.291 0.000159 ***\n",
       "Residuals   147 195661    1331                     \n",
       "---\n",
       "Signif. codes:  0 '***' 0.001 '**' 0.01 '*' 0.05 '.' 0.1 ' ' 1"
      ]
     },
     "metadata": {},
     "output_type": "display_data"
    }
   ],
   "source": [
    "# 进行单因素方差分析\n",
    "result <- aov(productivity ~ condition, data = data)\n",
    "\n",
    "# 显示结果\n",
    "summary(result)"
   ]
  },
  {
   "cell_type": "markdown",
   "metadata": {},
   "source": [
    "一个在线零售商希望提高员工的工作效率，同时改善他们的工作体验。目前，零售商订单管理中心的员工在工作时没有得到任何形式的娱乐，如背景音乐、电视等。零售商想知道提供一些员工要求的播放背景音乐是否会提高生产力，如果能提高，具体能提高多少。\n",
    "\n",
    "因此，一名研究人员随机抽取了 150 名员工。这 150 名参与者被随机分为三组，每组50 名参与者：（a）一个 “对照组（control group）” 不听音乐；（b） 一个“治疗组（treatment group）”，他们听音乐，但不能选择听什么；和（c）第二个“治疗组”（treatment group），他们不仅可以听音乐，还可以自主选择听什么音乐。\n",
    "\n",
    "实验持续一个月。在实验结束时，三组的“生产力”是根据“每小时处理的平均包裹数量”来衡量。因此，因变量是“生产力”：由一个月实验期间每小时处理的平均包装数量衡量，而解释变量是“分组”：有三个相互独立的组，“no_music”（对照组）、“music_no_choice”（治疗组 A）和“music_choice”（治疗组 B）。研究人员假设，适当的娱乐放松会提高生产力，处于可选择音乐工作状态下的员工（治疗组 B）的生产力水平最高，其次是不可选择音乐工作状态下（治疗组 A），最后是无音乐组（对照组）。"
   ]
  },
  {
   "cell_type": "code",
   "execution_count": 3,
   "metadata": {
    "vscode": {
     "languageId": "r"
    }
   },
   "outputs": [
    {
     "data": {
      "text/plain": [
       "   Min. 1st Qu.  Median    Mean 3rd Qu.    Max. \n",
       "  104.7   161.0   185.0   184.9   205.0   285.3 "
      ]
     },
     "metadata": {},
     "output_type": "display_data"
    },
    {
     "data": {
      "image/png": "[encoded data removed]",
      "text/plain": [
       "Plot with title \"Histogram of data$productivity\""
      ]
     },
     "metadata": {
      "image/png": {
       "height": 420,
       "width": 420
      }
     },
     "output_type": "display_data"
    }
   ],
   "source": [
    "# 基础分析\n",
    "summary(data$productivity)\n",
    "\n",
    "# 数据分布分析\n",
    "hist(data$productivity)"
   ]
  },
  {
   "cell_type": "markdown",
   "metadata": {},
   "source": [
    "## 数据分析方法和理由\n",
    "\n",
    "1. **方法选择：单因素方差分析（One-way ANOVA）**  \n",
    "我们选择了单因素方差分析作为主要的数据分析方法。这是一种用于比较三个或更多组间平均数差异的统计方法。\n",
    "\n",
    "2. **适用性**  \n",
    "在这个研究中，我们有三个独立的组：对照组、治疗组A和治疗组B。我们的目标是比较这三个组在生产力上是否存在显著差异。这正是单因素方差分析所擅长的。\n",
    "\n",
    "3. **假设检验**  \n",
    "单因素方差分析可以帮助我们检验零假设（即所有组的平均生产力都相等）是否成立。如果P值小于0.05，我们就可以拒绝零假设，认为至少有两个组的平均生产力存在显著差异。\n",
    "\n",
    "4. **结果解读**  \n",
    "单因素方差分析的结果可以告诉我们各组间是否存在显著差异，但不能告诉我们哪些组之间存在显著差异。如果我们发现各组间存在显著差异，我们可能需要进行事后检验（如Tukey HSD）来确定哪些组之间存在显著差异。\n",
    "\n",
    "5. **实施步骤**  \n",
    "在R中，我们可以使用`aov`函数进行单因素方差分析，然后使用`summary`函数查看结果。具体代码如下：\n",
    "\n"
   ]
  },
  {
   "cell_type": "code",
   "execution_count": null,
   "metadata": {
    "vscode": {
     "languageId": "r"
    }
   },
   "outputs": [],
   "source": [
    "# 进行单因素方差分析\n",
    "result <- aov(productivity ~ condition, data = data)\n",
    "\n",
    "# 显示结果\n",
    "summary(result)"
   ]
  },
  {
   "cell_type": "code",
   "execution_count": 4,
   "metadata": {
    "vscode": {
     "languageId": "r"
    }
   },
   "outputs": [
    {
     "data": {
      "text/plain": [
       "             Df Sum Sq Mean Sq F value   Pr(>F)    \n",
       "condition     2  24734   12367   9.291 0.000159 ***\n",
       "Residuals   147 195661    1331                     \n",
       "---\n",
       "Signif. codes:  0 '***' 0.001 '**' 0.01 '*' 0.05 '.' 0.1 ' ' 1"
      ]
     },
     "metadata": {},
     "output_type": "display_data"
    },
    {
     "data": {
      "image/png": "[encoded data removed]",
      "text/plain": [
       "Plot with title \"Productivity by Condition\""
      ]
     },
     "metadata": {
      "image/png": {
       "height": 420,
       "width": 420
      }
     },
     "output_type": "display_data"
    }
   ],
   "source": [
    "# ANOVA分析\n",
    "result <- aov(productivity ~ condition, data = data)\n",
    "\n",
    "# 查看ANOVA结果\n",
    "summary(result)\n",
    "\n",
    "# 创建箱线图\n",
    "boxplot(productivity ~ condition, data = data, main = \"Productivity by Condition\", xlab = \"Condition\", ylab = \"Productivity\")"
   ]
  },
  {
   "cell_type": "code",
   "execution_count": null,
   "metadata": {
    "vscode": {
     "languageId": "r"
    }
   },
   "outputs": [],
   "source": []
  },
  {
   "cell_type": "markdown",
   "metadata": {},
   "source": [
    "## 研究问题和假设\n",
    "\n",
    "本研究旨在探讨背景音乐是否能提高在线零售商的员工生产力，以及员工是否能选择音乐是否会对生产力产生影响。具体来说，我们关注以下两个研究问题：\n",
    "\n",
    "1. 听背景音乐的员工是否比不听音乐的员工生产力更高？\n",
    "2. 能选择听什么音乐的员工是否比不能选择的员工生产力更高？\n",
    "\n",
    "基于这些研究问题，我们提出以下假设：\n",
    "\n",
    "1. 听背景音乐的员工的生产力会高于不听音乐的员工。\n",
    "2. 能选择听什么音乐的员工的生产力会高于不能选择的员工。\n",
    "\n",
    "我们将通过实证研究来检验这些假设。"
   ]
  },
  {
   "cell_type": "markdown",
   "metadata": {},
   "source": [
    "这个问题可以使用单因素方差分析（One-way ANOVA）来解决。因为你的目标是比较三个独立的组（对照组、治疗组A、治疗组B）在生产力上是否存在显著差异。单因素方差分析是用于比较三个或更多组间平均数差异的统计方法，适合你的情况。\n",
    "\n",
    "以下是使用R进行单因素方差分析的代码：\n",
    "\n"
   ]
  },
  {
   "cell_type": "code",
   "execution_count": null,
   "metadata": {
    "vscode": {
     "languageId": "r"
    }
   },
   "outputs": [],
   "source": [
    "# 读取数据\n",
    "data <- read.csv(\"your_file.csv\")\n",
    "\n",
    "# 进行单因素方差分析\n",
    "result <- aov(productivity ~ condition, data = data)\n",
    "\n",
    "# 显示结果\n",
    "summary(result)"
   ]
  },
  {
   "cell_type": "markdown",
   "metadata": {},
   "source": [
    "\n",
    "\n",
    "请将\"your_file.csv\"替换为你的CSV文件的实际路径和名称。"
   ]
  }
 ],
 "metadata": {
  "kernelspec": {
   "display_name": "R",
   "language": "R",
   "name": "ir"
  },
  "language_info": {
   "codemirror_mode": "r",
   "file_extension": ".r",
   "mimetype": "text/x-r-source",
   "name": "R",
   "pygments_lexer": "r",
   "version": "4.3.1"
  }
 },
 "nbformat": 4,
 "nbformat_minor": 2
}
